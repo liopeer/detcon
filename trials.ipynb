{
 "cells": [
  {
   "cell_type": "markdown",
   "metadata": {},
   "source": [
    "|name|shape|desc|dtype|\n",
    " |------|------|------|-------|\n",
    "|projection_view1|(4, 16, 256)| (B, H*W, proj_size) | float32|\n",
    "|prediction_view1|(4, 16, 256)| (B, H*W, proj_size) |float32|\n",
    "|mask_ids_view1|(4, 16)|(B, H*W)|int32|\n",
    "|logits_view1|(4, 1000)|(B, num_classes)|float32|\n",
    "|projection_view2|(4, 16, 256)| (B, H*W, proj_size) |float32|\n",
    "|prediction_view2|(4, 16, 256)| (B, H*W, proj_size) |float32|\n",
    "|mask_ids_view2|(4, 16)|(B, H*W)|int32|\n",
    "|logits_view2|(4, 1000)|(B, num_classes)|float32|"
   ]
  },
  {
   "cell_type": "markdown",
   "metadata": {},
   "source": [
    "|name|shape|dtype|\n",
    "|------|------|------|\n",
    "|projection_view1|(4, 16, 256)|float32|\n",
    "|prediction_view1|(4, 16, 256)|float32|\n",
    "|mask_ids_view1|(4, 16)|int32|\n",
    "|logits_view1|(4, 1000)|float32|\n",
    "|projection_view2|(4, 16, 256)|float32|\n",
    "|prediction_view2|(4, 16, 256)|float32|\n",
    "|mask_ids_view2|(4, 16)|int32|\n",
    "|logits_view2|(4, 1000)|float32|"
   ]
  },
  {
   "cell_type": "code",
   "execution_count": 1,
   "metadata": {},
   "outputs": [
    {
     "ename": "ModuleNotFoundError",
     "evalue": "No module named 'lightly.models'",
     "output_type": "error",
     "traceback": [
      "\u001b[0;31m---------------------------------------------------------------------------\u001b[0m",
      "\u001b[0;31mModuleNotFoundError\u001b[0m                       Traceback (most recent call last)",
      "Cell \u001b[0;32mIn[1], line 7\u001b[0m\n\u001b[1;32m      4\u001b[0m sys\u001b[38;5;241m.\u001b[39mpath\u001b[38;5;241m.\u001b[39mappend(\u001b[38;5;124m\"\u001b[39m\u001b[38;5;124m..\u001b[39m\u001b[38;5;124m\"\u001b[39m)\n\u001b[1;32m      6\u001b[0m \u001b[38;5;28;01mfrom\u001b[39;00m \u001b[38;5;21;01mdetcon\u001b[39;00m\u001b[38;5;21;01m.\u001b[39;00m\u001b[38;5;21;01mutils\u001b[39;00m\u001b[38;5;21;01m.\u001b[39;00m\u001b[38;5;21;01mlosses\u001b[39;00m \u001b[38;5;28;01mimport\u001b[39;00m byol_nce_detcon\n\u001b[0;32m----> 7\u001b[0m \u001b[38;5;28;01mfrom\u001b[39;00m \u001b[38;5;21;01mlightly\u001b[39;00m\u001b[38;5;21;01m.\u001b[39;00m\u001b[38;5;21;01mmodels\u001b[39;00m \u001b[38;5;28;01mimport\u001b[39;00m utils\n",
      "\u001b[0;31mModuleNotFoundError\u001b[0m: No module named 'lightly.models'"
     ]
    }
   ],
   "source": [
    "import torch\n",
    "import jax.numpy as jnp\n",
    "import sys\n",
    "sys.path.append(\"..\")\n",
    "\n",
    "from detcon.utils.losses import byol_nce_detcon\n",
    "from lightly.models import utils"
   ]
  },
  {
   "cell_type": "code",
   "execution_count": null,
   "metadata": {},
   "outputs": [],
   "source": []
  }
 ],
 "metadata": {
  "kernelspec": {
   "display_name": ".venv",
   "language": "python",
   "name": "python3"
  },
  "language_info": {
   "codemirror_mode": {
    "name": "ipython",
    "version": 3
   },
   "file_extension": ".py",
   "mimetype": "text/x-python",
   "name": "python",
   "nbconvert_exporter": "python",
   "pygments_lexer": "ipython3",
   "version": "3.8.20"
  }
 },
 "nbformat": 4,
 "nbformat_minor": 2
}
